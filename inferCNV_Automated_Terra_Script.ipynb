{
 "cells": [
  {
   "cell_type": "markdown",
   "id": "145aff95-83f9-4120-8006-9b8db4c29a87",
   "metadata": {},
   "source": [
    "# inferCNV Automated Terra Script"
   ]
  },
  {
   "cell_type": "markdown",
   "id": "a8e6103d-8e1d-4fb8-a948-806823220e15",
   "metadata": {},
   "source": [
    "#### This script generates the input files and all commands needed to run inferCNV on terra per sample"
   ]
  },
  {
   "cell_type": "code",
   "execution_count": null,
   "id": "57220c5f-3e1f-4c9f-a624-275afa1cc088",
   "metadata": {},
   "outputs": [],
   "source": [
    "# setup environment\n",
    "import numpy as np\n",
    "import pandas as pd\n",
    "import scanpy as sc\n",
    "import scanpy.external as sce\n",
    "import os"
   ]
  },
  {
   "cell_type": "code",
   "execution_count": null,
   "id": "2dccf396-0175-4bb2-869b-3b57d89ba254",
   "metadata": {},
   "outputs": [],
   "source": [
    "sc.settings.verbosity = 3 # verbosity: errors (0), warnings (1), info (2), hints (3)\n",
    "sc.logging.print_header()\n",
    "sc.settings.set_figure_params(dpi=80, facecolor='white')"
   ]
  },
  {
   "cell_type": "markdown",
   "id": "0a2fb724-a128-45b5-a498-33b609a505a0",
   "metadata": {
    "tags": []
   },
   "source": [
    "### Loading and combining samples from cellranger count filtered count matricies (unprocessed)\n"
   ]
  },
  {
   "cell_type": "code",
   "execution_count": null,
   "id": "1e52f2d9-8473-4b26-94ec-63b6491ab02b",
   "metadata": {
    "tags": []
   },
   "outputs": [],
   "source": [
    "sample1 = sc.read_10x_h5('/your/unprocessed/raw_count_matrices/sample1.h5')\n",
    "sample2 = sc.read_10x_h5('/your/unprocessed/raw_count_matrices/sample2.h5')\n",
    "sample3 = sc.read_10x_h5('/your/unprocessed/raw_count_matrices/sample3.h5')\n",
    "sample4 = sc.read_10x_h5('/your/unprocessed/raw_count_matrices/sample4.h5')\n",
    "\n",
    "sample1.var_names_make_unique()\n",
    "sample2.var_names_make_unique()\n",
    "sample3.var_names_make_unique()\n",
    "sample4.var_names_make_unique()"
   ]
  },
  {
   "cell_type": "code",
   "execution_count": null,
   "id": "cd94a91f-9d04-49c2-bffa-9c7683b5874b",
   "metadata": {},
   "outputs": [],
   "source": [
    "sample1.obs['sample'] = 'sample1'\n",
    "sample2.obs['sample'] = 'sample2'\n",
    "sample3.obs['sample'] = 'sample3'\n",
    "sample4.obs['sample'] = 'sample4'"
   ]
  },
  {
   "cell_type": "code",
   "execution_count": null,
   "id": "1c6e513b-0fc8-4d83-8677-efbdf2b89d9f",
   "metadata": {},
   "outputs": [],
   "source": [
    "adata = sample1.concatenate(sample2, sample3, sample4)"
   ]
  },
  {
   "cell_type": "markdown",
   "id": "a947c5b2-7d48-4897-b211-ae7f6d93f54e",
   "metadata": {},
   "source": [
    "## Load processed/annotated count matrix"
   ]
  },
  {
   "cell_type": "code",
   "execution_count": null,
   "id": "24173854-d0ca-4920-8302-8a639904270e",
   "metadata": {},
   "outputs": [],
   "source": [
    "adata2 = sc.read_h5ad('/your/processed/count_matrix.h5ad')"
   ]
  },
  {
   "cell_type": "markdown",
   "id": "67e4f633-9cc5-4a95-817b-14c47580b755",
   "metadata": {
    "tags": []
   },
   "source": [
    "## Generate files for R inferCNV on Terra"
   ]
  },
  {
   "cell_type": "code",
   "execution_count": null,
   "id": "3f4f1388-3566-4fef-b32b-23b1c3c15528",
   "metadata": {},
   "outputs": [],
   "source": [
    "#these are the directories in which all the generated files (formatted count matricies and annotations) and infercnv outputs will be placed\n",
    "local_infercnv_files = '/your/local/path/inferCNV_inputs'\n",
    "local_infercnv_outputs = '/your/local/path/inferCNV_outputs'"
   ]
  },
  {
   "cell_type": "code",
   "execution_count": null,
   "id": "859bc24b-7ff1-47e1-9f1e-0a16c098be6b",
   "metadata": {},
   "outputs": [],
   "source": [
    "# download script to create gene positions file from inferCNV github repo here: \n",
    "# https://github.com/broadinstitute/infercnv/blob/master/scripts/gtf_to_position_file.py\n",
    "# then run:\n",
    "ref_genome_file = 'your-reference-genome-gtf-file-here.gtf'\n",
    "print('python gtf_to_position_file.py %s %s/gene_ordering.txt --attribute_name=gene_name' % (ref_genome_file, local_infercnv_files))"
   ]
  },
  {
   "cell_type": "code",
   "execution_count": null,
   "id": "b942dd8d-4138-4a3f-925e-e1f505b851a3",
   "metadata": {},
   "outputs": [],
   "source": [
    "#set your terra workspace and google bucket/folders\n",
    "user_email = 'your-email@broadinstitute.org'\n",
    "terra_workspace = \"namespace/workspace\"\n",
    "\n",
    "gs_bucket = \"gs://fc-your-bucket-here\"\n",
    "gs_inputs_folder = gs_bucket + \"/inferCNV_inputs\"\n",
    "gs_outputs_folder = gs_bucket + \"/inferCNV_outputs\""
   ]
  },
  {
   "cell_type": "code",
   "execution_count": null,
   "id": "98d364eb-7b40-4f42-a095-50c95d8023b7",
   "metadata": {},
   "outputs": [],
   "source": [
    "#filter raw anndata to only include the cells in your processed anndata object and\n",
    "#add cell type annotations from your processed anndata object to the raw anndata object\n",
    "adata = adata[adata.obs.index.isin(adata2.obs.index)]\n",
    "adata.obs = adata.obs.merge(adata2.obs[['broad_clusters']], left_index=True, right_index=True)"
   ]
  },
  {
   "cell_type": "markdown",
   "id": "f0eda731-8e7c-407f-b41a-30158083015f",
   "metadata": {
    "tags": []
   },
   "source": [
    "## Per Sample (one object/run per sample - recommended option)"
   ]
  },
  {
   "cell_type": "code",
   "execution_count": null,
   "id": "236d0dd2-c204-4a36-a642-be7f210fda84",
   "metadata": {},
   "outputs": [],
   "source": [
    "#for every sample generate your formatted raw count matrix and annotations file\n",
    "#generates one script to automatically run all samples on Terra\n",
    "#note: infercnv requires every group (cell type in this case) to have at least 2 cells, so any cell types\n",
    "#with 0 or 1 cells are filtered out\n",
    "\n",
    "print('Run command below to upload all inferCNV inputs and run on terra:')\n",
    "print('bash %s/run_terra.sh' % (local_infercnv_files))\n",
    "terra_script = open(\"%s/run_terra.sh\" % (local_infercnv_files), \"w\")\n",
    "terra_script.write('#running inferCNV on all samples on Terra \\n')\n",
    "#uncomment if running on UGER\n",
    "# terra_script.write('source /broad/software/scripts/useuse\\n')\n",
    "# terra_script.write('reuse Anaconda3\\n')\n",
    "# terra_script.write('use Google-Cloud-SDK\\n')\n",
    "# terra_script.write('gcloud auth login %s\\n' % (user_email))\n",
    "# terra_script.write('source activate /seq/regev_genome_portal/conda_env/cumulus\\n')\n",
    "terra_script.write('#upload all inferCNV inputs to google bucket \\n')\n",
    "terra_script.write('gsutil -m rsync -r %s %s\\n' % (local_infercnv_files, gs_inputs_folder))\n",
    "terra_script.write('#start terra workflows \\n')\n",
    "for sample in adata.obs['sample'].unique().tolist():\n",
    "    #get base path for sample and make directory\n",
    "    sample_path = '%s/%s' % (local_infercnv_files, sample)\n",
    "    if not os.path.exists(sample_path):\n",
    "        os.makedirs(sample_path)\n",
    "        \n",
    "    #subset anndata per sample\n",
    "    temp = adata[adata.obs[\"sample\"] == sample]\n",
    "    \n",
    "    #remove cell types with less than 2 cells\n",
    "    for celltype in temp.obs.broad_clusters.unique().tolist():\n",
    "        celltypecount = len(temp.obs.loc[temp.obs.broad_clusters == celltype])\n",
    "        if celltypecount < 2:\n",
    "            temp = temp[temp.obs.broad_clusters != celltype]\n",
    "    \n",
    "    #get reference list\n",
    "    ref_list = temp.obs.broad_clusters.unique().tolist()\n",
    "    ref_list.remove('Tumor')\n",
    "\n",
    "    #generate annotations file\n",
    "    annotations_file_path = sample_path + '/' + sample + '_annotations.txt'\n",
    "    annotations = temp.obs['broad_clusters']\n",
    "    annotations.to_csv(annotations_file_path, sep='\\t', header=False, index=True)\n",
    "    \n",
    "    #generate raw count matrix\n",
    "    count_matrix_file_path = sample_path + '/' + sample + '.counts.matrix'\n",
    "    count_matrix = pd.DataFrame.sparse.from_spmatrix(temp.X.transpose(), index=temp.var.index, columns=temp.obs.index)\n",
    "    count_matrix.to_csv(count_matrix_file_path, sep='\\t', chunksize=1000000)\n",
    "\n",
    "    terra_input_file = \"%s/%s_input_terra.json\" % (sample_path, sample) \n",
    "\n",
    "    with open(terra_input_file, \"w\") as f:\n",
    "        f.write(\"{\\n\")\n",
    "        f.write(\"\\t\\\"infercnv.output_directory\\\" : \\\"%s/%s\\\",\\n\" % (gs_outputs_folder, sample))\n",
    "        f.write(\"\\t\\\"infercnv.annotations_file\\\" : \\\"%s/%s/%s_annotations.txt\\\",\\n\" % (gs_inputs_folder, sample, sample))\n",
    "        f.write(\"\\t\\\"infercnv.gene_order_file\\\" : \\\"%s/gene_ordering.txt\\\",\\n\" % (gs_inputs_folder))\n",
    "        f.write(\"\\t\\\"infercnv.raw_counts_matrix\\\" : \\\"%s/%s/%s.counts.matrix\\\",\\n\" % (gs_inputs_folder, sample, sample))\n",
    "        f.write(\"\\t\\\"infercnv.ref_group_names\\\" : \\\"\\'%s\\'\\\",\\n\" % (\",\".join(ref_list)))\n",
    "        f.write(\"\\t\\\"infercnv.denoise\\\" : true,\\n\")\n",
    "        f.write(\"\\t\\\"infercnv.cluster_by_groups\\\" : false,\\n\")\n",
    "        f.write(\"\\t\\\"infercnv.HMM\\\" : true,\\n\")\n",
    "        f.write(\"\\t\\\"infercnv.HMM_type\\\" : \\\"i6\\\",\\n\")\n",
    "        f.write(\"\\t\\\"infercnv.cutoff\\\" : \\\"0.1\\\",\\n\")\n",
    "        f.write(\"\\t\\\"infercnv.analysis_mode\\\" : \\\"subclusters\\\",\\n\")\n",
    "        f.write(\"\\t\\\"infercnv.tumor_subcluster_pval\\\" : \\\"0.1\\\",\\n\")\n",
    "        f.write(\"\\t\\\"infercnv.median_filter\\\" : true,\\n\")\n",
    "        #additional arguments are documented here: https://github.com/broadinstitute/infercnv/blob/master/scripts/inferCNV.R\n",
    "        f.write(\"\\t\\\"infercnv.additional_args\\\" : \\\"--k_obs_groups 10\\\",\\n\" )\n",
    "        f.write(\"\\t\\\"infercnv.cpu\\\" : 16,\\n\")\n",
    "        f.write(\"\\t\\\"infercnv.memory\\\" : \\\"128GB\\\"\\n\")\n",
    "        f.write(\"}\\n\")\n",
    "        \n",
    "    terra_script.write(\"alto terra run -m mparikh/infercnv_caching/9 -i %s/%s/%s_input_terra.json -w '%s'\\n\" % (local_infercnv_files, sample, sample, terra_workspace))\n",
    "terra_script.close()"
   ]
  },
  {
   "cell_type": "code",
   "execution_count": null,
   "id": "6408e229-6f15-4440-9db6-941d396fa6d7",
   "metadata": {},
   "outputs": [],
   "source": [
    "#these are the outputs you want to download per sample\n",
    "outputs = [\n",
    "    'infercnv.preliminary.png',\n",
    "    'infercnv.png',\n",
    "    'infercnv.references.txt',\n",
    "    'infercnv.observations.txt',\n",
    "    'infercnv.observation_groupings.txt',\n",
    "    'infercnv.observations_dendrogram.txt'\n",
    "]"
   ]
  },
  {
   "cell_type": "code",
   "execution_count": null,
   "id": "94633d56-3932-46cd-b841-a4d571d3da2c",
   "metadata": {},
   "outputs": [],
   "source": [
    "#generate commands to download outputs for each sample\n",
    "print('Run command below to download all infercnv outputs:')\n",
    "print('bash %s/download.sh' % (local_infercnv_outputs))\n",
    "download_script = open(\"%s/download.sh\" % (local_infercnv_outputs), \"w\")\n",
    "download_script.write('#download all inferCNV output files from google bucket\\n')\n",
    "#uncomment if running on UGER\n",
    "# download_script.write('source /broad/software/scripts/useuse\\n')\n",
    "# download_script.write('use Google-Cloud-SDK\\n')\n",
    "for sample in adata.obs['sample'].unique().tolist():\n",
    "    #get base path for sample and make directory\n",
    "    sample_path = '%s/%s' % (local_infercnv_outputs, sample)\n",
    "    if not os.path.exists(sample_path):\n",
    "        os.makedirs(sample_path)\n",
    "    gs_sample_output_folder = gs_outputs_folder + '/' + sample + '/'\n",
    "    filelist = [gs_sample_output_folder + output for output in outputs]\n",
    "    textfile = open(\"%s/%s/filelist.txt\" % (local_infercnv_outputs, sample), \"w\")\n",
    "    for element in filelist:\n",
    "        textfile.write(element + \"\\n\")\n",
    "    textfile.close()\n",
    "    download_script.write('#%s\\n' % (sample))\n",
    "    download_script.write('cat %s/%s/filelist.txt | gsutil -m cp -I %s/%s/\\n' % (local_infercnv_outputs, sample, local_infercnv_outputs, sample))\n",
    "download_script.close()"
   ]
  },
  {
   "cell_type": "markdown",
   "id": "6f68cfae-b292-4952-b40c-f06c2ef92f4e",
   "metadata": {
    "tags": []
   },
   "source": [
    "## All Samples (one Terra run with full dataset - **WARNING** can take days and be very expensive)"
   ]
  },
  {
   "cell_type": "code",
   "execution_count": null,
   "id": "b2b30287-7a65-49ba-9d33-f225604d92c4",
   "metadata": {},
   "outputs": [],
   "source": [
    "#generate your formatted raw count matrix and annotations file\n",
    "#generates one script to automatically run full dataset on Terra\n",
    "#note: infercnv requires every group (cell type in this case) to have at least 2 cells, so any cell types\n",
    "#with 0 or 1 cells are filtered out\n",
    "\n",
    "print('Run command below to upload all inferCNV inputs and run on terra:')\n",
    "print('bash %s/run_all_terra.sh' % (local_infercnv_files))\n",
    "terra_script = open(\"%s/run_all_terra.sh\" % (local_infercnv_files), \"w\")\n",
    "terra_script.write('#running inferCNV on Terra \\n')\n",
    "#uncomment if running on UGER\n",
    "# terra_script.write('source /broad/software/scripts/useuse\\n')\n",
    "# terra_script.write('reuse Anaconda3\\n')\n",
    "# terra_script.write('use Google-Cloud-SDK\\n')\n",
    "# terra_script.write('gcloud auth login %s\\n' % (user_email))\n",
    "# terra_script.write('source activate /seq/regev_genome_portal/conda_env/cumulus\\n')\n",
    "terra_script.write('#upload all inferCNV inputs to google bucket \\n')\n",
    "terra_script.write('gsutil -m rsync -r %s %s\\n' % (local_infercnv_files, gs_inputs_folder))\n",
    "terra_script.write('#start terra workflows \\n')\n",
    "#get path and make directory\n",
    "sample = 'all'\n",
    "all_path = '%s/%s' % (local_infercnv_files, sample)\n",
    "if not os.path.exists(all_path):\n",
    "    os.makedirs(all_path)\n",
    "\n",
    "#remove cell types with less than 2 cells\n",
    "for celltype in adata.obs.broad_clusters.unique().tolist():\n",
    "    celltypecount = len(adata.obs.loc[adata.obs.broad_clusters == celltype])\n",
    "    if celltypecount < 2:\n",
    "        adata = adata[adata.obs.broad_clusters != celltype]\n",
    "\n",
    "#get reference list\n",
    "ref_list = adata.obs.broad_clusters.unique().tolist()\n",
    "ref_list.remove('Tumor')\n",
    "\n",
    "#generate annotations file\n",
    "annotations_file_path = all_path + '/' + sample + '_annotations.txt'\n",
    "annotations = adata.obs['broad_clusters']\n",
    "annotations.to_csv(annotations_file_path, sep='\\t', header=False, index=True)\n",
    "\n",
    "#generate raw count matrix\n",
    "count_matrix_file_path = all_path + '/' + sample + '.counts.matrix'\n",
    "count_matrix = pd.DataFrame.sparse.from_spmatrix(adata.X.transpose(), index=adata.var.index, columns=adata.obs.index)\n",
    "count_matrix.to_csv(count_matrix_file_path, sep='\\t', chunksize=1000000)\n",
    "\n",
    "terra_input_file = \"%s/%s_input_terra.json\" % (all_path, sample) \n",
    "\n",
    "with open(terra_input_file, \"w\") as f:\n",
    "    f.write(\"{\\n\")\n",
    "    f.write(\"\\t\\\"infercnv.output_directory\\\" : \\\"%s/%s\\\",\\n\" % (gs_outputs_folder, sample))\n",
    "    f.write(\"\\t\\\"infercnv.annotations_file\\\" : \\\"%s/%s/%s_annotations.txt\\\",\\n\" % (gs_inputs_folder, sample, sample))\n",
    "    f.write(\"\\t\\\"infercnv.gene_order_file\\\" : \\\"%s/gene_ordering.txt\\\",\\n\" % (gs_inputs_folder))\n",
    "    f.write(\"\\t\\\"infercnv.raw_counts_matrix\\\" : \\\"%s/%s/%s.counts.matrix\\\",\\n\" % (gs_inputs_folder, sample, sample))\n",
    "    f.write(\"\\t\\\"infercnv.ref_group_names\\\" : \\\"\\'%s\\'\\\",\\n\" % (\",\".join(ref_list)))\n",
    "    f.write(\"\\t\\\"infercnv.denoise\\\" : true,\\n\")\n",
    "    f.write(\"\\t\\\"infercnv.cluster_by_groups\\\" : false,\\n\")\n",
    "    f.write(\"\\t\\\"infercnv.HMM\\\" : true,\\n\")\n",
    "    f.write(\"\\t\\\"infercnv.HMM_type\\\" : \\\"i6\\\",\\n\")\n",
    "    f.write(\"\\t\\\"infercnv.cutoff\\\" : \\\"0.1\\\",\\n\")\n",
    "    f.write(\"\\t\\\"infercnv.analysis_mode\\\" : \\\"subclusters\\\",\\n\")\n",
    "    f.write(\"\\t\\\"infercnv.tumor_subcluster_pval\\\" : \\\"0.1\\\",\\n\")\n",
    "    f.write(\"\\t\\\"infercnv.median_filter\\\" : true,\\n\")\n",
    "    #additional arguments are documented here: https://github.com/broadinstitute/infercnv/blob/master/scripts/inferCNV.R\n",
    "    f.write(\"\\t\\\"infercnv.additional_args\\\" : \\\"--k_obs_groups 10\\\",\\n\" )\n",
    "    f.write(\"\\t\\\"infercnv.cpu\\\" : 16,\\n\")\n",
    "    f.write(\"\\t\\\"infercnv.memory\\\" : \\\"128GB\\\"\\n\")\n",
    "    f.write(\"}\\n\")\n",
    "\n",
    "terra_script.write(\"alto terra run -m mparikh/infercnv_caching/9 -i %s/%s/%s_input_terra.json -w '%s'\\n\" % (local_infercnv_files, sample, sample, terra_workspace))\n",
    "terra_script.close()"
   ]
  },
  {
   "cell_type": "code",
   "execution_count": null,
   "id": "787a9855-4874-4682-8c98-7c56c8540c38",
   "metadata": {},
   "outputs": [],
   "source": [
    "#these are the outputs you want to download per sample\n",
    "outputs = [\n",
    "    'infercnv.preliminary.png',\n",
    "    'infercnv.png',\n",
    "    'infercnv.references.txt',\n",
    "    'infercnv.observations.txt',\n",
    "    'infercnv.observation_groupings.txt',\n",
    "    'infercnv.observations_dendrogram.txt'\n",
    "]"
   ]
  },
  {
   "cell_type": "code",
   "execution_count": null,
   "id": "dabc2dfd-83bb-47c7-9111-1db63f3e0344",
   "metadata": {},
   "outputs": [],
   "source": [
    "#generate commands to download outputs for each sample\n",
    "print('Run command below to download infercnv outputs:')\n",
    "print('bash %s/download_all.sh' % (local_infercnv_outputs))\n",
    "download_script = open(\"%s/download_all.sh\" % (local_infercnv_outputs), \"w\")\n",
    "download_script.write('#download all inferCNV output files from google bucket\\n')\n",
    "#uncomment if running on UGER\n",
    "# download_script.write('source /broad/software/scripts/useuse\\n')\n",
    "# download_script.write('use Google-Cloud-SDK\\n')\n",
    "sample = 'all'\n",
    "#get base path for sample and make directory\n",
    "sample_path = '%s/%s' % (local_infercnv_outputs, sample)\n",
    "if not os.path.exists(sample_path):\n",
    "    os.makedirs(sample_path)\n",
    "gs_sample_output_folder = gs_outputs_folder + '/' + sample + '/'\n",
    "filelist = [gs_sample_output_folder + output for output in outputs]\n",
    "textfile = open(\"%s/%s/filelist.txt\" % (local_infercnv_outputs, sample), \"w\")\n",
    "for element in filelist:\n",
    "    textfile.write(element + \"\\n\")\n",
    "textfile.close()\n",
    "download_script.write('#%s\\n' % (sample))\n",
    "download_script.write('cat %s/%s/filelist.txt | gsutil -m cp -I %s/%s/\\n' % (local_infercnv_outputs, sample, local_infercnv_outputs, sample))\n",
    "download_script.close()"
   ]
  }
 ],
 "metadata": {
  "kernelspec": {
   "display_name": "Python 3 (ipykernel)",
   "language": "python",
   "name": "python3"
  },
  "language_info": {
   "codemirror_mode": {
    "name": "ipython",
    "version": 3
   },
   "file_extension": ".py",
   "mimetype": "text/x-python",
   "name": "python",
   "nbconvert_exporter": "python",
   "pygments_lexer": "ipython3",
   "version": "3.8.10"
  }
 },
 "nbformat": 4,
 "nbformat_minor": 5
}
